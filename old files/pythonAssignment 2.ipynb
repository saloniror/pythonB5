{
 "cells": [
  {
   "cell_type": "code",
   "execution_count": null,
   "id": "10886ea0-7574-478a-9736-a3e12ba0e817",
   "metadata": {},
   "outputs": [],
   "source": [
    "def greet(name, greeting=\"Hello\"):\n",
    "    return f\"{greeting} {name}\"\n",
    "\n",
    "\n",
    "print(greet(\"Alice\"))                \n",
    "print(greet(\"Bob\", \"Good Morning\"))  \n"
   ]
  },
  {
   "cell_type": "markdown",
   "id": "69d4797b-2e66-495b-a4da-c689ad26f141",
   "metadata": {},
   "source": [
    "Create a function create_profile that takes arguments for name, age, and city as named arguments. The function should return a string like \"Name: Alice, Age: 25, City: New York\". Ensure that the age argument has a default value of 18."
   ]
  },
  {
   "cell_type": "code",
   "execution_count": 5,
   "id": "7563bed4-fc74-4e55-b385-908665c5612c",
   "metadata": {},
   "outputs": [
    {
     "name": "stdout",
     "output_type": "stream",
     "text": [
      " Name: John, Age: 18, City: Chicago\n",
      " Name: Emma, Age: 22, City: Los Angeles\n"
     ]
    }
   ],
   "source": [
    "def create_profile(*,name, age=18,city):\n",
    "    return f\" Name: {name}, Age: {age}, City: {city}\"\n",
    "\n",
    "print(create_profile(name=\"John\", city=\"Chicago\"))  \n",
    "\n",
    "print(create_profile(name=\"Emma\", age=22, city=\"Los Angeles\"))  \n"
   ]
  },
  {
   "cell_type": "markdown",
   "id": "f94d02b1-c9a6-4706-8b8f-82c201ce6c52",
   "metadata": {},
   "source": [
    "Write a function sum_numbers that takes any number of positional arguments (args) and keyword arguments (*kwargs). It should:\n",
    "Return the sum of all *args if they are numbers.\n",
    "\n",
    "Return a dictionary of all keyword arguments.\n",
    "\n"
   ]
  },
  {
   "cell_type": "code",
   "execution_count": 10,
   "id": "49f190b5-ac55-4414-b2bb-0389bc356b77",
   "metadata": {},
   "outputs": [
    {
     "name": "stdout",
     "output_type": "stream",
     "text": [
      "(6, {})\n",
      "(3, {'x': 4, 'y': 5})\n"
     ]
    }
   ],
   "source": [
    "def sum_numbers(*args, **kwargs):\n",
    "    total_sum = sum(arg for arg in args if isinstance(arg, (int, float)))\n",
    "    \n",
    "    \n",
    "    return total_sum, kwargs\n",
    "\n",
    "\n",
    "print(sum_numbers(1, 2, 3))  \n",
    "\n",
    "print(sum_numbers(1, 2, x=4, y=5))  \n",
    "\n",
    "\n"
   ]
  },
  {
   "cell_type": "markdown",
   "id": "9b1d692a-e275-47ad-a23e-9369d3bb124b",
   "metadata": {},
   "source": [
    "\n",
    "Write a function that uses map and a lambda to return a list where each element is squared.\n",
    "\n"
   ]
  },
  {
   "cell_type": "code",
   "execution_count": 13,
   "id": "cea822e3-7064-43b0-9045-89c402cf43ca",
   "metadata": {},
   "outputs": [
    {
     "name": "stdout",
     "output_type": "stream",
     "text": [
      "[1, 4, 9, 16]\n"
     ]
    }
   ],
   "source": [
    "def square_list(lst):\n",
    "    return list(map(lambda x: x**2, lst))\n",
    "\n",
    "print(square_list([1, 2, 3, 4]))  \n",
    "\n"
   ]
  },
  {
   "cell_type": "markdown",
   "id": "b4461d8a-0832-4548-99cb-5f7444010ff5",
   "metadata": {},
   "source": [
    "Write a function that filters out all odd numbers from a list using filter and a lambda function.\n",
    "\n"
   ]
  },
  {
   "cell_type": "code",
   "execution_count": 16,
   "id": "da0ac71e-c41c-40ca-b9b3-43f0cbd58aea",
   "metadata": {},
   "outputs": [
    {
     "data": {
      "text/plain": [
       "[2, 4]"
      ]
     },
     "execution_count": 16,
     "metadata": {},
     "output_type": "execute_result"
    }
   ],
   "source": [
    "def filter_odd_numbers(lst):\n",
    "    return list(filter(lambda x:x%2==0,lst))\n",
    "\n",
    "filter_odd_numbers([1, 2, 3, 4, 5])  # Output: [2, 4]\n"
   ]
  },
  {
   "cell_type": "markdown",
   "id": "e3eeb2f7-2ee0-4ef7-9108-44f3c20ec2df",
   "metadata": {},
   "source": [
    "Create a list comprehension that takes a list of numbers and returns a list of their squares.\n",
    "\n"
   ]
  },
  {
   "cell_type": "code",
   "execution_count": 19,
   "id": "36206abb-c82a-4bb4-a9b5-5d394e505b33",
   "metadata": {},
   "outputs": [
    {
     "name": "stdin",
     "output_type": "stream",
     "text": [
      "Enter a number: 6\n"
     ]
    },
    {
     "name": "stdout",
     "output_type": "stream",
     "text": [
      "[0, 1, 4, 9, 16, 25]\n"
     ]
    }
   ],
   "source": [
    "n=int(input(\"Enter a number:\"))\n",
    "squares = [x**2 for x in range(n)]\n",
    "\n",
    "print(squares)"
   ]
  },
  {
   "cell_type": "markdown",
   "id": "6903972a-f6c9-40a4-a3ce-e8a0aa70dc00",
   "metadata": {},
   "source": [
    "Use a list comprehension to create a list of even numbers from 1 to 20.\n",
    "\n"
   ]
  },
  {
   "cell_type": "code",
   "execution_count": 22,
   "id": "a6858664-aba4-4c9b-a280-66c670f97bfd",
   "metadata": {},
   "outputs": [
    {
     "name": "stdout",
     "output_type": "stream",
     "text": [
      "[2, 4, 6, 8, 10, 12, 14, 16, 18, 20]\n"
     ]
    }
   ],
   "source": [
    "Even=[x for x in range(1, 21) if x % 2 == 0]  \n",
    "print(Even)"
   ]
  },
  {
   "cell_type": "markdown",
   "id": "2483449d-73a8-4394-9a1c-5b7405a5ba80",
   "metadata": {},
   "source": [
    "Write a function file_operations that creates a directory named \"test_folder\" using os.makedirs(). Then, pause the execution for 3 seconds using time.sleep(), and finally, delete the directory using os.rmdir()"
   ]
  },
  {
   "cell_type": "code",
   "execution_count": 25,
   "id": "a864c604-20ce-4f89-8584-3190a83cd6b7",
   "metadata": {},
   "outputs": [
    {
     "name": "stdout",
     "output_type": "stream",
     "text": [
      "Directory 'test_folder' created.\n",
      "Directory 'test_folder' deleted.\n"
     ]
    }
   ],
   "source": [
    "\n",
    "import os\n",
    "import time\n",
    "\n",
    "def file_operations():\n",
    "    # Step 1: Create a directory named \"test_folder\"\n",
    "    folder_name = \"test_folder\"\n",
    "    \n",
    "    try:\n",
    "        os.makedirs(folder_name, exist_ok=True)\n",
    "        print(f\"Directory '{folder_name}' created.\")\n",
    "    except Exception as e:\n",
    "        print(f\"Error creating directory: {e}\")\n",
    "    \n",
    "    # Step 2: Pause execution for 3 seconds\n",
    "    time.sleep(3)\n",
    "    \n",
    "    # Step 3: Remove the directory\n",
    "    try:\n",
    "        os.rmdir(folder_name)\n",
    "        print(f\"Directory '{folder_name}' deleted.\")\n",
    "    except Exception as e:\n",
    "        print(f\"Error deleting directory: {e}\")\n",
    "\n",
    "# Example usage:\n",
    "if __name__ == \"__main__\":\n",
    "    file_operations()\n"
   ]
  },
  {
   "cell_type": "markdown",
   "id": "12fd9d40-cb17-4004-82a4-bb2184687c02",
   "metadata": {},
   "source": [
    "Write a Python script that imports only sleep from the time module and renames it to pause. Use it to pause execution for 2 seconds and print \"Paused execution...\".\n",
    "\n"
   ]
  },
  {
   "cell_type": "code",
   "execution_count": 28,
   "id": "ee06d4d2-b650-495a-b69b-faebb15129b7",
   "metadata": {},
   "outputs": [
    {
     "name": "stdout",
     "output_type": "stream",
     "text": [
      "Paused execution...\n"
     ]
    }
   ],
   "source": [
    "# Importing sleep from time and renaming it to pause\n",
    "from time import sleep as pause\n",
    "\n",
    "# Pause execution for 2 seconds\n",
    "pause(2)\n",
    "\n",
    "# Print a message after the pause\n",
    "print(\"Paused execution...\")\n"
   ]
  },
  {
   "cell_type": "markdown",
   "id": "e246aaff-691e-42d3-97fc-e76239745662",
   "metadata": {},
   "source": [
    "Write a recursive function flatten_list that can flatten a nested list of any depth using *args and **kwargs.\n",
    "\n",
    "Explanation:\n",
    "Flattening a list means converting a nested list into a single-level list. If the list contains sub-lists, we recursively traverse them and extract their elements to form one flat list.\n"
   ]
  },
  {
   "cell_type": "code",
   "execution_count": 31,
   "id": "acc922ad-89e4-44f1-a797-1b6ca27c0a3f",
   "metadata": {},
   "outputs": [
    {
     "name": "stdout",
     "output_type": "stream",
     "text": [
      "[1, 2, 3, 4, 5, 6]\n",
      "[1, 2, 3, 4, 5]\n"
     ]
    }
   ],
   "source": [
    "def flatten_list(nested_list, *args, **kwargs):\n",
    "    flat_list = []\n",
    "    \n",
    "    # Loop through each item in the nested list\n",
    "    for item in nested_list:\n",
    "        # If the item is a list, recursively flatten it\n",
    "        if isinstance(item, list):\n",
    "            flat_list.extend(flatten_list(item))\n",
    "        # If the item is not a list, add it to the flat list\n",
    "        else:\n",
    "            flat_list.append(item)\n",
    "    \n",
    "    return flat_list\n",
    "\n",
    "# Example usage:\n",
    "print(flatten_list([1, [2, 3], [[4, 5], 6]]))  # Output: [1, 2, 3, 4, 5, 6]\n",
    "print(flatten_list([[1, 2], [3, [4, [5]]]]))   # Output: [1, 2, 3, 4, 5]\n"
   ]
  },
  {
   "cell_type": "code",
   "execution_count": null,
   "id": "ac741b31-dffe-47df-a23d-4ab9cd63f538",
   "metadata": {},
   "outputs": [],
   "source": []
  }
 ],
 "metadata": {
  "kernelspec": {
   "display_name": "Python 3 (ipykernel)",
   "language": "python",
   "name": "python3"
  },
  "language_info": {
   "codemirror_mode": {
    "name": "ipython",
    "version": 3
   },
   "file_extension": ".py",
   "mimetype": "text/x-python",
   "name": "python",
   "nbconvert_exporter": "python",
   "pygments_lexer": "ipython3",
   "version": "3.12.4"
  }
 },
 "nbformat": 4,
 "nbformat_minor": 5
}
