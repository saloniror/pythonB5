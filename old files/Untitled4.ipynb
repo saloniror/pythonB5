{
 "cells": [
  {
   "cell_type": "code",
   "execution_count": 1,
   "id": "5d897155-109b-4de9-a88e-7a7fa4493aac",
   "metadata": {},
   "outputs": [
    {
     "data": {
      "image/png": "[encoded data removed]",
      "text/plain": [
       "<Figure size 640x480 with 1 Axes>"
      ]
     },
     "metadata": {},
     "output_type": "display_data"
    }
   ],
   "source": [
    "import numpy as np\n",
    "import matplotlib.pyplot as plt\n",
    "\n",
    "def birth_death_process(birth_rate, death_rate, initial_population, time_steps):\n",
    "    population = np.zeros(time_steps)\n",
    "    population[0] = initial_population\n",
    "    for t in range(1, time_steps):\n",
    "        birth = birth_rate * population[t-1]\n",
    "        death = death_rate * population[t-1]\n",
    "        population[t] = population[t-1] + birth - death\n",
    "    return population\n",
    "\n",
    "birth_rate = 0.1\n",
    "death_rate = 0.05\n",
    "initial_population = 100\n",
    "time_steps = 100\n",
    "population = birth_death_process(birth_rate, death_rate, initial_population, time_steps)\n",
    "plt.plot(population)\n",
    "plt.xlabel('Time')\n",
    "plt.ylabel('Population size')\n",
    "plt.title('Birth-death process')\n",
    "plt.show()"
   ]
  },
  {
   "cell_type": "code",
   "execution_count": 4,
   "id": "70e76c54-aed8-47c8-ba2a-bb33b808fb62",
   "metadata": {},
   "outputs": [
    {
     "name": "stdout",
     "output_type": "stream",
     "text": [
      "0.3333333333333333\n"
     ]
    }
   ],
   "source": [
    "def stationary_distribution(birth_rate, death_rate):\n",
    "    return death_rate / (birth_rate + death_rate)\n",
    "\n",
    "birth_rate = 0.1\n",
    "death_rate = 0.05\n",
    "print(stationary_distribution(birth_rate, death_rate))"
   ]
  },
  {
   "cell_type": "code",
   "execution_count": 6,
   "id": "b9f91644-65ab-4baa-849e-ec483e4a5503",
   "metadata": {},
   "outputs": [
    {
     "name": "stdout",
     "output_type": "stream",
     "text": [
      "['1: 6.67', '2: 13.33', '3: 20.00', '4: 26.67', '5: 33.33', '6: 40.00', '7: 46.67', '8: 53.33', '9: 60.00']\n"
     ]
    }
   ],
   "source": [
    "def expected_time_absorption(birth_rate, death_rate, states):\n",
    "    expected_times = []\n",
    "    for state in states:\n",
    "        if birth_rate == death_rate:\n",
    "            expected_time = state\n",
    "        else:\n",
    "            expected_time = 1 / (birth_rate + death_rate) * state\n",
    "        expected_times.append(f'{state}: {expected_time:.2f}')\n",
    "    return expected_times\n",
    "        \n",
    "birth_rate = 0.1\n",
    "death_rate = 0.05\n",
    "states = range(1, 10)\n",
    "print(expected_time_absorption(birth_rate, death_rate, states))"
   ]
  },
  {
   "cell_type": "code",
   "execution_count": 5,
   "id": "467f0bf2-dfbe-4c11-88fc-e4e6824a7b0d",
   "metadata": {},
   "outputs": [
    {
     "ename": "AttributeError",
     "evalue": "module 'matplotlib' has no attribute 'plot'",
     "output_type": "error",
     "traceback": [
      "\u001b[1;31m---------------------------------------------------------------------------\u001b[0m",
      "\u001b[1;31mAttributeError\u001b[0m                            Traceback (most recent call last)",
      "Cell \u001b[1;32mIn[5], line 18\u001b[0m\n\u001b[0;32m     16\u001b[0m time_steps \u001b[38;5;241m=\u001b[39m \u001b[38;5;241m100\u001b[39m\n\u001b[0;32m     17\u001b[0m customers \u001b[38;5;241m=\u001b[39m birth_death_queue(arrival_rate, service_rate, initial_customers, time_steps)\n\u001b[1;32m---> 18\u001b[0m plt\u001b[38;5;241m.\u001b[39mplot(customers)\n\u001b[0;32m     19\u001b[0m plt\u001b[38;5;241m.\u001b[39mxlabel(\u001b[38;5;124m'\u001b[39m\u001b[38;5;124mTime\u001b[39m\u001b[38;5;124m'\u001b[39m)\n\u001b[0;32m     20\u001b[0m plt\u001b[38;5;241m.\u001b[39mylabel(\u001b[38;5;124m'\u001b[39m\u001b[38;5;124mNumber of customers\u001b[39m\u001b[38;5;124m'\u001b[39m)\n",
      "File \u001b[1;32m~\\anaconda3\\Lib\\site-packages\\matplotlib\\_api\\__init__.py:217\u001b[0m, in \u001b[0;36mcaching_module_getattr.<locals>.__getattr__\u001b[1;34m(name)\u001b[0m\n\u001b[0;32m    215\u001b[0m \u001b[38;5;28;01mif\u001b[39;00m name \u001b[38;5;129;01min\u001b[39;00m props:\n\u001b[0;32m    216\u001b[0m     \u001b[38;5;28;01mreturn\u001b[39;00m props[name]\u001b[38;5;241m.\u001b[39m\u001b[38;5;21m__get__\u001b[39m(instance)\n\u001b[1;32m--> 217\u001b[0m \u001b[38;5;28;01mraise\u001b[39;00m \u001b[38;5;167;01mAttributeError\u001b[39;00m(\n\u001b[0;32m    218\u001b[0m     \u001b[38;5;124mf\u001b[39m\u001b[38;5;124m\"\u001b[39m\u001b[38;5;124mmodule \u001b[39m\u001b[38;5;132;01m{\u001b[39;00m\u001b[38;5;28mcls\u001b[39m\u001b[38;5;241m.\u001b[39m\u001b[38;5;18m__module__\u001b[39m\u001b[38;5;132;01m!r}\u001b[39;00m\u001b[38;5;124m has no attribute \u001b[39m\u001b[38;5;132;01m{\u001b[39;00mname\u001b[38;5;132;01m!r}\u001b[39;00m\u001b[38;5;124m\"\u001b[39m)\n",
      "\u001b[1;31mAttributeError\u001b[0m: module 'matplotlib' has no attribute 'plot'"
     ]
    }
   ],
   "source": [
    "import numpy as np\n",
    "import matplotlib as plt\n",
    "\n",
    "def birth_death_queue(arrival_rate, service_rate, initial_customers, time_steps):\n",
    "    customers = np.zeros(time_steps)\n",
    "    customers[0] = initial_customers\n",
    "    for t in range(1, time_steps):\n",
    "        arrival = arrival_rate\n",
    "        service = service_rate * customers[t-1]\n",
    "        customers[t] = customers[t-1] + arrival - service\n",
    "    return customers\n",
    "\n",
    "arrival_rate = 0.1\n",
    "service_rate = 0.05\n",
    "initial_customers = 100\n",
    "time_steps = 100\n",
    "customers = birth_death_queue(arrival_rate, service_rate, initial_customers, time_steps)\n",
    "plt.plot(customers)\n",
    "plt.xlabel('Time')\n",
    "plt.ylabel('Number of customers')\n",
    "plt.title('Birth-death queueing system')\n",
    "plt.show()"
   ]
  },
  {
   "cell_type": "code",
   "execution_count": 7,
   "id": "286699f4-1543-4c77-a062-8f9c6008a9f7",
   "metadata": {},
   "outputs": [
    {
     "name": "stdout",
     "output_type": "stream",
     "text": [
      "The probability of reaching state 7 after 10 time units is 0.1395\n"
     ]
    }
   ],
   "source": [
    "def birth_death_probability(t, initial_state, target_state, birth_rate, death_rate):\n",
    "\t\n",
    "\tmax_state = max(initial_state, target_state) + int(t * max(birth_rate, death_rate))\n",
    "\tprobabilities = np.zeros((max_state + 1, t + 1))\n",
    "\n",
    "\tprobabilities[initial_state, 0] = 1.0\n",
    "\n",
    "\tfor time_step in range(1, t + 1):\n",
    "\t\tfor state in range(max_state + 1):\n",
    "\n",
    "\t\t\tif state == 0:\n",
    "\t\t\t\tprobabilities[state, time_step] = probabilities[state, time_step - 1] * (1 - birth_rate)\n",
    "\t\t\telif state == max_state:\n",
    "\t\t\t\tprobabilities[state, time_step] = probabilities[state, time_step - 1] * (1 - death_rate) + probabilities[state - 1, time_step - 1] * birth_rate\n",
    "\t\t\telse:\n",
    "\t\t\t\tprobabilities[state, time_step] = (\n",
    "            \t\tprobabilities[state, time_step - 1] * (1 - birth_rate - death_rate)\n",
    "            \t\t+ probabilities[state - 1, time_step - 1] * birth_rate\n",
    "            \t\t+ probabilities[state + 1, time_step - 1] * death_rate\n",
    "        \t\t)\n",
    "\n",
    "\treturn probabilities[target_state, t]\n",
    "\n",
    "t = 10\n",
    "initial_state = 5\n",
    "target_state = 7\n",
    "birth_rate = 0.1\n",
    "death_rate = 0.05\n",
    "\n",
    "probability = birth_death_probability(t, initial_state, target_state, birth_rate, death_rate)\n",
    "print(f\"The probability of reaching state {target_state} after {t} time units is {probability:.04f}\")"
   ]
  },
  {
   "cell_type": "code",
   "execution_count": null,
   "id": "5ccf9841-1ef9-4481-882d-6119d761a2d9",
   "metadata": {},
   "outputs": [],
   "source": []
  }
 ],
 "metadata": {
  "kernelspec": {
   "display_name": "Python 3 (ipykernel)",
   "language": "python",
   "name": "python3"
  },
  "language_info": {
   "codemirror_mode": {
    "name": "ipython",
    "version": 3
   },
   "file_extension": ".py",
   "mimetype": "text/x-python",
   "name": "python",
   "nbconvert_exporter": "python",
   "pygments_lexer": "ipython3",
   "version": "3.12.4"
  }
 },
 "nbformat": 4,
 "nbformat_minor": 5
}
