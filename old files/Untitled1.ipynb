{
 "cells": [
  {
   "cell_type": "code",
   "execution_count": 1,
   "id": "f2c8e13b-0649-4177-8e7c-0eceae242f53",
   "metadata": {},
   "outputs": [],
   "source": [
    "#write a program that takes a list of SAP IDs and returns a list of email addresses\n",
    "1 without using map, filter lambda or list comprehension\n",
    "2 using map, filter, lambda without using list comprehension\n",
    "3 using list comprehension\n",
    "#input\n",
    "list=[123, \"234\"]\n",
    "#output\n",
    "res = [\"123@stu.upes.ac.in\",\"2344@stu.upes.ac.in\"]\n",
    "\n"
   ]
  },
  {
   "cell_type": "code",
   "execution_count": 11,
   "id": "f40be849-3a20-41b1-92ef-be6530ae1ef2",
   "metadata": {},
   "outputs": [
    {
     "name": "stdout",
     "output_type": "stream",
     "text": [
      "[123, '234']\n",
      "['123@stu.upes.ac.in', '234@stu.upes.ac.in']\n"
     ]
    }
   ],
   "source": [
    "def generate_email_addresses(sap_ids):\n",
    "    # logic\n",
    "\n",
    "    email_list = []\n",
    "    for sap_id in sap_ids:\n",
    "     email = f\"{sap_id}@stu.upes.ac.in\"\n",
    "     email_list.append(email)\n",
    "\n",
    "\n",
    "\n",
    "    return email_list\n",
    "\n",
    "\n",
    "sap_ids = [123, \"234\"]\n",
    "res = generate_email_addresses(sap_ids)\n",
    "print(sap_ids)\n",
    "print(res)"
   ]
  },
  {
   "cell_type": "code",
   "execution_count": 19,
   "id": "5038d93b-0bd5-463e-b19c-772d515a75c9",
   "metadata": {},
   "outputs": [
    {
     "ename": "TypeError",
     "evalue": "'list' object is not callable",
     "output_type": "error",
     "traceback": [
      "\u001b[1;31m---------------------------------------------------------------------------\u001b[0m",
      "\u001b[1;31mTypeError\u001b[0m                                 Traceback (most recent call last)",
      "Cell \u001b[1;32mIn[19], line 7\u001b[0m\n\u001b[0;32m      5\u001b[0m     \u001b[38;5;66;03m#id_to_email(\"123\")\u001b[39;00m\n\u001b[0;32m      6\u001b[0m sap_ids \u001b[38;5;241m=\u001b[39m [\u001b[38;5;241m123\u001b[39m, \u001b[38;5;124m\"\u001b[39m\u001b[38;5;124m234\u001b[39m\u001b[38;5;124m\"\u001b[39m,\u001b[38;5;124m\"\u001b[39m\u001b[38;5;124m234234\u001b[39m\u001b[38;5;124m\"\u001b[39m,\u001b[38;5;241m123123\u001b[39m ]\n\u001b[1;32m----> 7\u001b[0m res \u001b[38;5;241m=\u001b[39m \u001b[38;5;28mlist\u001b[39m(\u001b[38;5;28mmap\u001b[39m(id_to_email, sap_ids))\n\u001b[0;32m      8\u001b[0m \u001b[38;5;28mprint\u001b[39m(sap_ids)\n\u001b[0;32m      9\u001b[0m \u001b[38;5;28mprint\u001b[39m(res)\n",
      "\u001b[1;31mTypeError\u001b[0m: 'list' object is not callable"
     ]
    }
   ],
   "source": [
    "# 2 logic\n",
    "def id_to_email(id):\n",
    "    email = f\"{id}@stu.upes.ac.in\"\n",
    "    return email\n",
    "    #id_to_email(\"123\")\n",
    "sap_ids = [123, \"234\",\"234234\",123123 ]\n",
    "res = list(map(id_to_email, sap_ids))\n",
    "print(sap_ids)\n",
    "print(res)\n",
    "\n",
    "\n",
    "\n",
    "           \n",
    "    "
   ]
  },
  {
   "cell_type": "code",
   "execution_count": 17,
   "id": "fdc8056a-f19a-41aa-93f2-4c2515efb7fe",
   "metadata": {},
   "outputs": [
    {
     "name": "stdout",
     "output_type": "stream",
     "text": [
      "[123, '234']\n",
      "['123@stu.upes.ac.in', '234@stu.upes.ac.in']\n"
     ]
    }
   ],
   "source": [
    "# 3 logic using list comp\n",
    "res = [ f\"{id}@stu.upes.ac.in\" for id in sap_ids]\n",
    "\n",
    "print(sap_ids)\n",
    "print(res)"
   ]
  },
  {
   "cell_type": "code",
   "execution_count": null,
   "id": "31475ce3-08e0-4b9f-a91d-1bb6e3fa9aa6",
   "metadata": {},
   "outputs": [],
   "source": []
  }
 ],
 "metadata": {
  "kernelspec": {
   "display_name": "Python 3 (ipykernel)",
   "language": "python",
   "name": "python3"
  },
  "language_info": {
   "codemirror_mode": {
    "name": "ipython",
    "version": 3
   },
   "file_extension": ".py",
   "mimetype": "text/x-python",
   "name": "python",
   "nbconvert_exporter": "python",
   "pygments_lexer": "ipython3",
   "version": "3.12.4"
  }
 },
 "nbformat": 4,
 "nbformat_minor": 5
}
