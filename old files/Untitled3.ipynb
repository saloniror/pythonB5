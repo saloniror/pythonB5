{
 "cells": [
  {
   "cell_type": "code",
   "execution_count": 3,
   "id": "74d8fd54-828c-4499-be42-bdcf5b480eae",
   "metadata": {},
   "outputs": [
    {
     "ename": "SyntaxError",
     "evalue": "invalid non-printable character U+00A0 (1599764028.py, line 22)",
     "output_type": "error",
     "traceback": [
      "\u001b[1;36m  Cell \u001b[1;32mIn[3], line 22\u001b[1;36m\u001b[0m\n\u001b[1;33m    simulate_birth_death_process(birth_rate=0.5, death_rate=0.3, max_time=10)\u001b[0m\n\u001b[1;37m                                                                ^\u001b[0m\n\u001b[1;31mSyntaxError\u001b[0m\u001b[1;31m:\u001b[0m invalid non-printable character U+00A0\n"
     ]
    }
   ],
   "source": [
    "import numpy as np\n",
    "import matplotlib.pyplot as plt\n",
    "\n",
    "def simulate_birth_death_process(birth_rate, death_rate, max_time):\n",
    "    time_step = 0.01\n",
    "    times = np.arange(0, max_time, time_step)\n",
    "    population = [1]  # Starting with 1 individual\n",
    "\n",
    "    for t in times[:-1]:\n",
    "        current_population = population[-1]\n",
    "        births = np.random.poisson(birth_rate * current_population * time_step)\n",
    "        deaths = np.random.poisson(death_rate * current_population * time_step)\n",
    "        new_population = max(current_population + births - deaths, 0)  # Ensure population can't be negative\n",
    "        population.append(new_population)\n",
    "\n",
    "    plt.plot(times, population)\n",
    "    plt.xlabel('Time')\n",
    "    plt.ylabel('Population Size')\n",
    "    plt.title('Birth-Death Process Simulation')\n",
    "    plt.show()\n",
    "\n",
    "simulate_birth_death_process(birth_rate=0.5, death_rate=0.3, max_time=10)"
   ]
  },
  {
   "cell_type": "code",
   "execution_count": null,
   "id": "ac7f1292-ef0b-4303-b31d-58689266f00c",
   "metadata": {},
   "outputs": [],
   "source": []
  }
 ],
 "metadata": {
  "kernelspec": {
   "display_name": "Python 3 (ipykernel)",
   "language": "python",
   "name": "python3"
  },
  "language_info": {
   "codemirror_mode": {
    "name": "ipython",
    "version": 3
   },
   "file_extension": ".py",
   "mimetype": "text/x-python",
   "name": "python",
   "nbconvert_exporter": "python",
   "pygments_lexer": "ipython3",
   "version": "3.12.4"
  }
 },
 "nbformat": 4,
 "nbformat_minor": 5
}
